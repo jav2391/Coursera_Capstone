{
 "cells": [
  {
   "cell_type": "markdown",
   "metadata": {
    "collapsed": true
   },
   "source": [
    "# Best Area to Open Restaurant in LA\n",
    "\n",
    "### IBM Coursera Data Science Course-Capstone Project\n",
    "### Submitted by: Jaiver Lopez"
   ]
  },
  {
   "cell_type": "markdown",
   "metadata": {},
   "source": [
    "-----"
   ]
  },
  {
   "cell_type": "markdown",
   "metadata": {},
   "source": [
    "## 1. INTRODUCTION\n",
    "\n",
    "### BACKGROUND\n",
    "\n",
    "September 4, 1781 the city of Los Angeles was founded and is one of the most famous places to visit in the world til this day. Most known for Hollywood and its movie production and rich lifestyles. But it is also known to have one of the greatest food cultures there is due to high level of diversity and creativity in this great city. With a population of over 12 million people the city never seems to sleep and always eating. Narrowing down to Downtown Los Angeles can bring lots of opportunity to be apart with the amazing food culture they have here and can bring large amounts of profit to owning your own restaurant. \n",
    "\n",
    "With the right square footage of space and location, it can be achieveable. There is so many attractions nearby such as The Staples Center, Civic Center, Fashion District, Hollywood Walk of Fame, and so much more. People are bound to come piling in if done right. There is a lot of traffic that goes through downtown LA. An ideal space to lease would be in the middle of these these attractions or near them. From tourists, it's near a lot of corporate establishments, and of course the locals that will be in and out of this area. \n",
    "\n",
    "Ideally with the square footage of an available space would be between 3,500 to 4,500 sqft. 20 USD to 45 USD per square foot depending on exact location. The occupancy amount of people to be allowed in the dining area in the restaurant would be 80 to 100 people. Every 500 square foot is legally able to have up to 33 occupants and this leaves additional space for the kitchen, office, and work stations.    "
   ]
  },
  {
   "cell_type": "markdown",
   "metadata": {},
   "source": [
    "###  BUSINESS PROBLEM\n",
    "\n",
    "The issue here would be finding the best location offering with the right amount of square footage in the downtown area of Los Angeles. Limited spaces would be available. Also spaces that can pass inspections and retain licenses that are needed in order to operate in Los Angeles County. To get the proper funding for marketing to be able to compete with other restaurants in the area. To get upscale and proper equipment to produce a easy workflow for the restaurant.  "
   ]
  },
  {
   "cell_type": "markdown",
   "metadata": {},
   "source": [
    "### TARGET AUDIENCE \n",
    "\n",
    "Investors and Beneficairaies who know the downtown Los Angeles area. For those who can give the proper funding to the restaurant. Also have expertise in the food indusrty."
   ]
  },
  {
   "cell_type": "markdown",
   "metadata": {},
   "source": [
    "## 2. DATA SOURCES\n",
    "\n",
    "### ONLINE SCRAPING\n",
    "\n",
    "Los Angeles postal codes, and location names. LA-based datasets will have different column naming and arrangement. HTML table location of Postal Codes and figures are ordered differently within the webpage. As such, some changes in API parameters and Pandas are needed to create and clean the dataframes.\n",
    "\n",
    "### GEOGRAPHICAL COORDINATES\n",
    "\n",
    "Use Los Angeles Geo-coordinates. After researching, a consolidated csv will be created. Latitude and longitude coordnates will be merged\n",
    "\n",
    "### SPACES FOR LEASE DATA\n",
    "\n",
    "The Foursquare API will be used to collect available space based on the geo-coordinates of the area. Folium library to visualize location data"
   ]
  },
  {
   "cell_type": "code",
   "execution_count": null,
   "metadata": {},
   "outputs": [],
   "source": []
  }
 ],
 "metadata": {
  "kernelspec": {
   "display_name": "Python 3.7",
   "language": "python",
   "name": "python3"
  },
  "language_info": {
   "codemirror_mode": {
    "name": "ipython",
    "version": 3
   },
   "file_extension": ".py",
   "mimetype": "text/x-python",
   "name": "python",
   "nbconvert_exporter": "python",
   "pygments_lexer": "ipython3",
   "version": "3.7.9"
  }
 },
 "nbformat": 4,
 "nbformat_minor": 1
}
