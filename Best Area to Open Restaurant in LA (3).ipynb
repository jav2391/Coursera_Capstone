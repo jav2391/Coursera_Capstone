{
 "cells": [
  {
   "cell_type": "markdown",
   "metadata": {
    "collapsed": true
   },
   "source": [
    "# Best Area to Open Restaurant in LA\n",
    "\n",
    "### IBM Coursera Data Science Course-Capstone Project\n",
    "### Submitted by: Jaiver Lopez"
   ]
  },
  {
   "cell_type": "markdown",
   "metadata": {},
   "source": [
    "-----"
   ]
  },
  {
   "cell_type": "markdown",
   "metadata": {},
   "source": [
    "## 1. INTRODUCTION\n",
    "\n",
    "### BACKGROUND\n",
    "\n",
    "September 4, 1781 the city of Los Angeles was founded and is one of the most famous places to visit in the world til this day. Most known for Hollywood and its movie production and rich lifestyles. But it is also known to have one of the greatest food cultures there is due to high level of diversity and creativity in this great city. With a population of over 12 million people the city never seems to sleep and always eating. Narrowing down to Downtown Los Angeles can bring lots of opportunity to be apart with the amazing food culture they have here and can bring large amounts of profit to owning your own restaurant. \n",
    "\n",
    "With the right square footage of space and location, it can be achieveable. There is so many attractions nearby such as The Staples Center, Civic Center, Fashion District, Hollywood Walk of Fame, and so much more. People are bound to come piling in if done right. There is a lot of traffic that goes through downtown LA. An ideal space to lease would be in the middle of these these attractions or near them. From tourists, it's near a lot of corporate establishments, and of course the locals that will be in and out of this area. \n",
    "\n",
    "Ideally with the square footage of an available space would be between 3,500 to 4,500 sqft. 20 USD to 45 USD per square foot depending on exact location. The occupancy amount of people to be allowed in the dining area in the restaurant would be 80 to 100 people. Every 500 square foot is legally able to have up to 33 occupants and this leaves additional space for the kitchen, office, and work stations.    "
   ]
  },
  {
   "cell_type": "markdown",
   "metadata": {},
   "source": [
    "###  BUSINESS PROBLEM\n",
    "\n",
    "The issue here would be finding the best location offering with the right amount of square footage in the downtown area of Los Angeles. Limited spaces would be available. Also spaces that can pass inspections and retain licenses that are needed in order to operate in Los Angeles County. To get the proper funding for marketing to be able to compete with other restaurants in the area. To get upscale and proper equipment to produce a easy workflow for the restaurant.  "
   ]
  },
  {
   "cell_type": "markdown",
   "metadata": {},
   "source": [
    "### TARGET AUDIENCE \n",
    "\n",
    "Investors and Beneficairaies who know the downtown Los Angeles area. For those who can give the proper funding to the restaurant. Also have expertise in the food indusrty."
   ]
  },
  {
   "cell_type": "markdown",
   "metadata": {},
   "source": [
    "## 2. DATA SOURCES\n",
    "\n",
    "### ONLINE SCRAPING\n",
    "\n",
    "Los Angeles postal codes, and location names. LA-based datasets will have different column naming and arrangement. HTML table location of Postal Codes and figures are ordered differently within the webpage. As such, some changes in API parameters and Pandas are needed to create and clean the dataframes.\n",
    "\n",
    "### GEOGRAPHICAL COORDINATES\n",
    "\n",
    "Use Los Angeles Geo-coordinates. After researching, a consolidated csv will be created. Latitude and longitude coordnates will be merged\n",
    "\n",
    "### SPACES FOR LEASE DATA\n",
    "\n",
    "The Foursquare API will be used to collect available space based on the geo-coordinates of the area. Folium library to visualize location data"
   ]
  },
  {
   "cell_type": "code",
   "execution_count": 21,
   "metadata": {},
   "outputs": [
    {
     "name": "stdout",
     "output_type": "stream",
     "text": [
      "Collecting geopy\n",
      "  Downloading geopy-2.0.0-py3-none-any.whl (111 kB)\n",
      "Collecting geographiclib<2,>=1.49\n",
      "  Downloading geographiclib-1.50-py3-none-any.whl (38 kB)\n",
      "Installing collected packages: geographiclib, geopy\n",
      "Successfully installed geographiclib-1.50 geopy-2.0.0\n",
      "Collecting geocoder\n",
      "  Downloading geocoder-1.38.1-py2.py3-none-any.whl (98 kB)\n",
      "Requirement already satisfied: click in c:\\users\\shara\\anaconda3\\lib\\site-packages (from geocoder) (7.1.2)\n",
      "Requirement already satisfied: six in c:\\users\\shara\\anaconda3\\lib\\site-packages (from geocoder) (1.15.0)\n",
      "Collecting ratelim\n",
      "  Downloading ratelim-0.1.6-py2.py3-none-any.whl (4.0 kB)\n",
      "Requirement already satisfied: future in c:\\users\\shara\\anaconda3\\lib\\site-packages (from geocoder) (0.18.2)\n",
      "Requirement already satisfied: requests in c:\\users\\shara\\anaconda3\\lib\\site-packages (from geocoder) (2.24.0)\n",
      "Requirement already satisfied: decorator in c:\\users\\shara\\anaconda3\\lib\\site-packages (from ratelim->geocoder) (4.4.2)\n",
      "Requirement already satisfied: certifi>=2017.4.17 in c:\\users\\shara\\anaconda3\\lib\\site-packages (from requests->geocoder) (2020.6.20)\n",
      "Requirement already satisfied: chardet<4,>=3.0.2 in c:\\users\\shara\\anaconda3\\lib\\site-packages (from requests->geocoder) (3.0.4)\n",
      "Requirement already satisfied: urllib3!=1.25.0,!=1.25.1,<1.26,>=1.21.1 in c:\\users\\shara\\anaconda3\\lib\\site-packages (from requests->geocoder) (1.25.10)\n",
      "Requirement already satisfied: idna<3,>=2.5 in c:\\users\\shara\\anaconda3\\lib\\site-packages (from requests->geocoder) (2.10)\n",
      "Installing collected packages: ratelim, geocoder\n",
      "Successfully installed geocoder-1.38.1 ratelim-0.1.6\n"
     ]
    }
   ],
   "source": [
    "#Importing required libraries\n",
    "import numpy as np\n",
    "import pandas as pd\n",
    "\n",
    "try:\n",
    "    from geopy.geocoders import Nominatim\n",
    "except:\n",
    "    !pip install geopy\n",
    "    from geopy.geocoders import Nominatim\n",
    "    \n",
    "try:\n",
    "    import geocoder\n",
    "except:\n",
    "    !pip install geocoder\n",
    "    import geocoder\n",
    "\n",
    "\n",
    "import requests\n",
    "from bs4 import BeautifulSoup\n",
    "\n",
    "try:\n",
    "    import folium\n",
    "except:\n",
    "    !pip install folium\n",
    "    import folium\n",
    "    \n",
    "from sklearn.cluster import KMeans\n",
    "\n",
    "from sklearn import preprocessing\n",
    "\n",
    "from sklearn.model_selection import train_test_split\n",
    "\n",
    "from sklearn.neighbors import KNeighborsClassifier\n",
    "\n",
    "from sklearn import metrics\n",
    "\n",
    "import matplotlib as mpl\n",
    "import matplotlib.pyplot as plt"
   ]
  },
  {
   "cell_type": "code",
   "execution_count": 22,
   "metadata": {},
   "outputs": [
    {
     "name": "stdout",
     "output_type": "stream",
     "text": [
      "Collecting wordcloud\n",
      "  Downloading wordcloud-1.8.0-cp37-cp37m-win_amd64.whl (157 kB)\n",
      "Requirement already satisfied: numpy>=1.6.1 in c:\\users\\shara\\anaconda3\\lib\\site-packages (from wordcloud) (1.19.1)\n",
      "Requirement already satisfied: matplotlib in c:\\users\\shara\\anaconda3\\lib\\site-packages (from wordcloud) (3.2.2)\n",
      "Requirement already satisfied: pillow in c:\\users\\shara\\anaconda3\\lib\\site-packages (from wordcloud) (7.2.0)\n",
      "Requirement already satisfied: pyparsing!=2.0.4,!=2.1.2,!=2.1.6,>=2.0.1 in c:\\users\\shara\\anaconda3\\lib\\site-packages (from matplotlib->wordcloud) (2.4.7)\n",
      "Requirement already satisfied: cycler>=0.10 in c:\\users\\shara\\anaconda3\\lib\\site-packages (from matplotlib->wordcloud) (0.10.0)\n",
      "Requirement already satisfied: kiwisolver>=1.0.1 in c:\\users\\shara\\anaconda3\\lib\\site-packages (from matplotlib->wordcloud) (1.2.0)\n",
      "Requirement already satisfied: python-dateutil>=2.1 in c:\\users\\shara\\anaconda3\\lib\\site-packages (from matplotlib->wordcloud) (2.8.1)\n",
      "Requirement already satisfied: six in c:\\users\\shara\\anaconda3\\lib\\site-packages (from cycler>=0.10->matplotlib->wordcloud) (1.15.0)\n",
      "Installing collected packages: wordcloud\n",
      "Successfully installed wordcloud-1.8.0\n",
      "Wordcloud is installed and imported!\n"
     ]
    }
   ],
   "source": [
    "# install wordcloud\n",
    "!pip install wordcloud\n",
    "# import package and its set of stopwords\n",
    "from wordcloud import WordCloud, STOPWORDS\n",
    "\n",
    "print ('Wordcloud is installed and imported!')"
   ]
  },
  {
   "cell_type": "code",
   "execution_count": 23,
   "metadata": {},
   "outputs": [
    {
     "name": "stdout",
     "output_type": "stream",
     "text": [
      "The Latitude and Longitude of Downtown, Los Angeles is 34.04834000000005 and -118.25563999999997\n"
     ]
    }
   ],
   "source": [
    "#Getting the location of Downtown city using the geocoder package\n",
    "g = geocoder.arcgis('Downtown, Los Angeles, CA, USA')\n",
    "blr_lat = g.latlng[0]\n",
    "blr_lng = g.latlng[1]\n",
    "print(\"The Latitude and Longitude of Downtown, Los Angeles is {} and {}\".format(blr_lat, blr_lng))"
   ]
  },
  {
   "cell_type": "code",
   "execution_count": 24,
   "metadata": {},
   "outputs": [],
   "source": [
    "#Scraping the Wikimedia webpage for list of localities present in Downtown city\n",
    "neig = requests.get(\"https://commons.wikimedia.org/wiki/Category:Downtown_Los_Angeles\").text"
   ]
  },
  {
   "cell_type": "code",
   "execution_count": 25,
   "metadata": {},
   "outputs": [],
   "source": [
    "#parsing the scraped content\n",
    "soup = BeautifulSoup(neig, 'html.parser')"
   ]
  },
  {
   "cell_type": "code",
   "execution_count": 26,
   "metadata": {},
   "outputs": [],
   "source": [
    "#Creating a list to store neighborhood data\n",
    "neighborhoodlist = []"
   ]
  },
  {
   "cell_type": "code",
   "execution_count": 27,
   "metadata": {},
   "outputs": [
    {
     "data": {
      "text/html": [
       "<div>\n",
       "<style scoped>\n",
       "    .dataframe tbody tr th:only-of-type {\n",
       "        vertical-align: middle;\n",
       "    }\n",
       "\n",
       "    .dataframe tbody tr th {\n",
       "        vertical-align: top;\n",
       "    }\n",
       "\n",
       "    .dataframe thead th {\n",
       "        text-align: right;\n",
       "    }\n",
       "</style>\n",
       "<table border=\"1\" class=\"dataframe\">\n",
       "  <thead>\n",
       "    <tr style=\"text-align: right;\">\n",
       "      <th></th>\n",
       "      <th>Locality</th>\n",
       "    </tr>\n",
       "  </thead>\n",
       "  <tbody>\n",
       "    <tr>\n",
       "      <th>0</th>\n",
       "      <td>Buildings in Downtown Los Angeles</td>\n",
       "    </tr>\n",
       "    <tr>\n",
       "      <th>1</th>\n",
       "      <td>Civic Center, Los Angeles</td>\n",
       "    </tr>\n",
       "    <tr>\n",
       "      <th>2</th>\n",
       "      <td>Cityscapes of Downtown Los Angeles</td>\n",
       "    </tr>\n",
       "    <tr>\n",
       "      <th>3</th>\n",
       "      <td>2nd Street (Los Angeles)</td>\n",
       "    </tr>\n",
       "    <tr>\n",
       "      <th>4</th>\n",
       "      <td>7th Street (Los Angeles)</td>\n",
       "    </tr>\n",
       "  </tbody>\n",
       "</table>\n",
       "</div>"
      ],
      "text/plain": [
       "                             Locality\n",
       "0   Buildings in Downtown Los Angeles\n",
       "1           Civic Center, Los Angeles\n",
       "2  Cityscapes of Downtown Los Angeles\n",
       "3            2nd Street (Los Angeles)\n",
       "4            7th Street (Los Angeles)"
      ]
     },
     "execution_count": 27,
     "metadata": {},
     "output_type": "execute_result"
    }
   ],
   "source": [
    "#Searching the localities using class labels and appending it to the neighborhood list\n",
    "for i in soup.find_all('div', class_='mw-category')[0].find_all('a'):\n",
    "    neighborhoodlist.append(i.text)\n",
    "\n",
    "#Creating a dataframe from the list\n",
    "neig_df = pd.DataFrame({\"Locality\": neighborhoodlist})\n",
    "neig_df.head()"
   ]
  },
  {
   "cell_type": "code",
   "execution_count": 28,
   "metadata": {},
   "outputs": [
    {
     "data": {
      "text/plain": [
       "(36, 1)"
      ]
     },
     "execution_count": 28,
     "metadata": {},
     "output_type": "execute_result"
    }
   ],
   "source": [
    "#Shape of dataframe neig_df\n",
    "neig_df.shape"
   ]
  },
  {
   "cell_type": "markdown",
   "metadata": {},
   "source": [
    "## Getting Locations of locality"
   ]
  },
  {
   "cell_type": "code",
   "execution_count": 29,
   "metadata": {},
   "outputs": [],
   "source": [
    "#Defining a function to get the location of the localities\n",
    "def get_location(localities):\n",
    "    g = geocoder.arcgis('{}, Downtown, Los Angeles, CA, USA'.format(localities))\n",
    "    get_latlng = g.latlng\n",
    "    return get_latlng"
   ]
  },
  {
   "cell_type": "code",
   "execution_count": 30,
   "metadata": {},
   "outputs": [
    {
     "name": "stdout",
     "output_type": "stream",
     "text": [
      "[[34.04834000000005, -118.25563999999997], [34.049810000000036, -118.25423999999998], [34.04834000000005, -118.25563999999997], [34.04761068868174, -118.23919738262944], [34.035055365901535, -118.23865050352609], [34.05361000000005, -118.24549999999999], [34.04953000000006, -118.25946999999996], [34.029611060101715, -118.23039991834902], [34.05095000000006, -118.24978999999996], [32.77013654426631, -117.0158613607412], [34.03704887185317, -118.26120133862237], [34.05361000000005, -118.24549999999999], [34.04747000000003, -118.26428999999996], [34.031409782457864, -118.24453716298852], [34.04834000000005, -118.25563999999997], [34.05295029612485, -118.25649909972765], [34.04792000000003, -118.25800999999996], [34.047120000000064, -118.25707999999997], [34.05192931726763, -118.25220941922373], [34.05551000000003, -118.24550999999997], [34.04792000000003, -118.25800999999996], [34.05361000000005, -118.24549999999999], [34.05361000000005, -118.24549999999999], [34.04834000000005, -118.25563999999997], [34.04834000000005, -118.25563999999997], [34.04481000000004, -118.37138999999996], [34.05735000000004, -118.24815999999998], [34.04834000000005, -118.25563999999997], [34.04791, -118.25554], [34.048560000000066, -118.25177999999994], [34.04780000000005, -118.25268999999997], [34.0310553194532, -118.2500078921319], [34.04834000000005, -118.25563999999997], [34.04834000000005, -118.25563999999997], [34.04378158124003, -118.2530233765063], [34.04834000000005, -118.25563999999997]]\n"
     ]
    }
   ],
   "source": [
    "#Creating an empty list\n",
    "co_ordinates = []\n",
    "#Getting the co-ordinates of each locality using the function defined above\n",
    "for i in neig_df[\"Locality\"].tolist():\n",
    "    co_ordinates.append(get_location(i))\n",
    "print(co_ordinates)"
   ]
  },
  {
   "cell_type": "code",
   "execution_count": 31,
   "metadata": {},
   "outputs": [
    {
     "data": {
      "text/plain": [
       "[[34.04834000000005, -118.25563999999997],\n",
       " [34.049810000000036, -118.25423999999998],\n",
       " [34.04834000000005, -118.25563999999997],\n",
       " [34.04761068868174, -118.23919738262944],\n",
       " [34.035055365901535, -118.23865050352609]]"
      ]
     },
     "execution_count": 31,
     "metadata": {},
     "output_type": "execute_result"
    }
   ],
   "source": [
    "co_ordinates[:5]"
   ]
  },
  {
   "cell_type": "code",
   "execution_count": 32,
   "metadata": {},
   "outputs": [],
   "source": [
    "#Creating a dataframe from the list of location co-ordinates\n",
    "co_ordinates_df = pd.DataFrame(co_ordinates, columns=['Latitudes', 'Longitudes'])"
   ]
  },
  {
   "cell_type": "code",
   "execution_count": 33,
   "metadata": {},
   "outputs": [],
   "source": [
    "#Adding co-ordinates of localities to neig_df dataframe\n",
    "neig_df[\"Latitudes\"] = co_ordinates_df[\"Latitudes\"]\n",
    "neig_df[\"Longitudes\"] = co_ordinates_df[\"Longitudes\"]"
   ]
  },
  {
   "cell_type": "code",
   "execution_count": 34,
   "metadata": {},
   "outputs": [
    {
     "name": "stdout",
     "output_type": "stream",
     "text": [
      "The shape of neig_df is (36, 3)\n"
     ]
    },
    {
     "data": {
      "text/html": [
       "<div>\n",
       "<style scoped>\n",
       "    .dataframe tbody tr th:only-of-type {\n",
       "        vertical-align: middle;\n",
       "    }\n",
       "\n",
       "    .dataframe tbody tr th {\n",
       "        vertical-align: top;\n",
       "    }\n",
       "\n",
       "    .dataframe thead th {\n",
       "        text-align: right;\n",
       "    }\n",
       "</style>\n",
       "<table border=\"1\" class=\"dataframe\">\n",
       "  <thead>\n",
       "    <tr style=\"text-align: right;\">\n",
       "      <th></th>\n",
       "      <th>Locality</th>\n",
       "      <th>Latitudes</th>\n",
       "      <th>Longitudes</th>\n",
       "    </tr>\n",
       "  </thead>\n",
       "  <tbody>\n",
       "    <tr>\n",
       "      <th>0</th>\n",
       "      <td>Buildings in Downtown Los Angeles</td>\n",
       "      <td>34.048340</td>\n",
       "      <td>-118.255640</td>\n",
       "    </tr>\n",
       "    <tr>\n",
       "      <th>1</th>\n",
       "      <td>Civic Center, Los Angeles</td>\n",
       "      <td>34.049810</td>\n",
       "      <td>-118.254240</td>\n",
       "    </tr>\n",
       "    <tr>\n",
       "      <th>2</th>\n",
       "      <td>Cityscapes of Downtown Los Angeles</td>\n",
       "      <td>34.048340</td>\n",
       "      <td>-118.255640</td>\n",
       "    </tr>\n",
       "    <tr>\n",
       "      <th>3</th>\n",
       "      <td>2nd Street (Los Angeles)</td>\n",
       "      <td>34.047611</td>\n",
       "      <td>-118.239197</td>\n",
       "    </tr>\n",
       "    <tr>\n",
       "      <th>4</th>\n",
       "      <td>7th Street (Los Angeles)</td>\n",
       "      <td>34.035055</td>\n",
       "      <td>-118.238651</td>\n",
       "    </tr>\n",
       "  </tbody>\n",
       "</table>\n",
       "</div>"
      ],
      "text/plain": [
       "                             Locality  Latitudes  Longitudes\n",
       "0   Buildings in Downtown Los Angeles  34.048340 -118.255640\n",
       "1           Civic Center, Los Angeles  34.049810 -118.254240\n",
       "2  Cityscapes of Downtown Los Angeles  34.048340 -118.255640\n",
       "3            2nd Street (Los Angeles)  34.047611 -118.239197\n",
       "4            7th Street (Los Angeles)  34.035055 -118.238651"
      ]
     },
     "execution_count": 34,
     "metadata": {},
     "output_type": "execute_result"
    }
   ],
   "source": [
    "print(\"The shape of neig_df is {}\".format(neig_df.shape))\n",
    "neig_df.head()"
   ]
  },
  {
   "cell_type": "markdown",
   "metadata": {},
   "source": [
    "## Plotting the Localities on map"
   ]
  },
  {
   "cell_type": "code",
   "execution_count": 35,
   "metadata": {},
   "outputs": [
    {
     "data": {
      "text/html": [
       "<div style=\"width:100%;\"><div style=\"position:relative;width:100%;height:0;padding-bottom:60%;\"><span style=\"color:#565656\">Make this Notebook Trusted to load map: File -> Trust Notebook</span><iframe src=\"about:blank\" style=\"position:absolute;width:100%;height:100%;left:0;top:0;border:none !important;\" data-html=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 onload=\"this.contentDocument.open();this.contentDocument.write(atob(this.getAttribute('data-html')));this.contentDocument.close();\" allowfullscreen webkitallowfullscreen mozallowfullscreen></iframe></div></div>"
      ],
      "text/plain": [
       "<folium.folium.Map at 0x1ad23595288>"
      ]
     },
     "execution_count": 35,
     "metadata": {},
     "output_type": "execute_result"
    }
   ],
   "source": [
    "#Creating a map\n",
    "blr_map = folium.Map(location=[blr_lat, blr_lng],zoom_start=11)\n",
    "\n",
    "#adding markers to the map for localities\n",
    "#marker for Downtown\n",
    "folium.Marker([blr_lat, blr_lng], popup='<i>Downtown</i>', color='red', tooltip=\"Click to see\").add_to(blr_map)\n",
    "\n",
    "#markers for localities\n",
    "for latitude,longitude,name in zip(neig_df[\"Latitudes\"], neig_df[\"Longitudes\"], neig_df[\"Locality\"]):\n",
    "    folium.CircleMarker(\n",
    "        [latitude, longitude],\n",
    "        radius=6,\n",
    "        color='blue',\n",
    "        popup=name,\n",
    "        fill=True,\n",
    "        fill_color='#3186ff'\n",
    "    ).add_to(blr_map)\n",
    "\n",
    "blr_map"
   ]
  },
  {
   "cell_type": "markdown",
   "metadata": {},
   "source": [
    "## Using Foursquare API to explore the localities"
   ]
  },
  {
   "cell_type": "code",
   "execution_count": 36,
   "metadata": {},
   "outputs": [],
   "source": [
    "#Foursquare Credentials\n",
    "CLIENT_ID = 'PJ1BWNXTSEA1EN0DKYLQBR1OKNZJV1X0RDX3MMCKYWUIDMIF'\n",
    "CLIENT_SECRET = 'CULSFCMTRJMK4TR5GFL5GRUQWOB51RUAQDTESNPBY0HPLUOB'\n",
    "VERSION = '20180605' # Foursquare API version"
   ]
  },
  {
   "cell_type": "code",
   "execution_count": 37,
   "metadata": {},
   "outputs": [],
   "source": [
    "#Getting the top 100 venues in each locality\n",
    "radius = 2000\n",
    "LIMIT = 100\n",
    "\n",
    "venues = []\n",
    "\n",
    "for lat, lng, locality in zip(neig_df[\"Latitudes\"], neig_df[\"Longitudes\"], neig_df[\"Locality\"]):\n",
    "    url = 'https://api.foursquare.com/v2/venues/explore?client_id={}&client_secret={}&ll={},{}&v={}&radius={}&limit={}'.format(CLIENT_ID, CLIENT_SECRET, lat, lng, VERSION, radius, LIMIT)\n",
    "    results = requests.get(url).json()['response']['groups'][0]['items']\n",
    "\n",
    "    for venue in results:\n",
    "        venues.append((locality, lat, lng, venue['venue']['name'], venue['venue']['location']['lat'], venue['venue']['location']['lng'], venue['venue']['categories'][0]['name'], venue['venue']['id']))"
   ]
  },
  {
   "cell_type": "code",
   "execution_count": 38,
   "metadata": {},
   "outputs": [
    {
     "data": {
      "text/plain": [
       "('Buildings in Downtown Los Angeles',\n",
       " 34.04834000000005,\n",
       " -118.25563999999997,\n",
       " 'Los Angeles Athletic Club',\n",
       " 34.04650829642701,\n",
       " -118.25531646206136,\n",
       " 'Gym',\n",
       " '4a0f961df964a52077761fe3')"
      ]
     },
     "execution_count": 38,
     "metadata": {},
     "output_type": "execute_result"
    }
   ],
   "source": [
    "#Looking at the first venue\n",
    "venues[0]"
   ]
  },
  {
   "cell_type": "code",
   "execution_count": 39,
   "metadata": {},
   "outputs": [
    {
     "data": {
      "text/html": [
       "<div>\n",
       "<style scoped>\n",
       "    .dataframe tbody tr th:only-of-type {\n",
       "        vertical-align: middle;\n",
       "    }\n",
       "\n",
       "    .dataframe tbody tr th {\n",
       "        vertical-align: top;\n",
       "    }\n",
       "\n",
       "    .dataframe thead th {\n",
       "        text-align: right;\n",
       "    }\n",
       "</style>\n",
       "<table border=\"1\" class=\"dataframe\">\n",
       "  <thead>\n",
       "    <tr style=\"text-align: right;\">\n",
       "      <th></th>\n",
       "      <th>Locality</th>\n",
       "      <th>Latitude</th>\n",
       "      <th>Longitude</th>\n",
       "      <th>Venue name</th>\n",
       "      <th>Venue Lat</th>\n",
       "      <th>Venue Lng</th>\n",
       "      <th>Venue Category</th>\n",
       "      <th>Venue ID</th>\n",
       "    </tr>\n",
       "  </thead>\n",
       "  <tbody>\n",
       "    <tr>\n",
       "      <th>0</th>\n",
       "      <td>Buildings in Downtown Los Angeles</td>\n",
       "      <td>34.04834</td>\n",
       "      <td>-118.25564</td>\n",
       "      <td>Los Angeles Athletic Club</td>\n",
       "      <td>34.046508</td>\n",
       "      <td>-118.255316</td>\n",
       "      <td>Gym</td>\n",
       "      <td>4a0f961df964a52077761fe3</td>\n",
       "    </tr>\n",
       "    <tr>\n",
       "      <th>1</th>\n",
       "      <td>Buildings in Downtown Los Angeles</td>\n",
       "      <td>34.04834</td>\n",
       "      <td>-118.25564</td>\n",
       "      <td>The Water Grill</td>\n",
       "      <td>34.049137</td>\n",
       "      <td>-118.255049</td>\n",
       "      <td>Seafood Restaurant</td>\n",
       "      <td>4a5bfb78f964a52018bc1fe3</td>\n",
       "    </tr>\n",
       "    <tr>\n",
       "      <th>2</th>\n",
       "      <td>Buildings in Downtown Los Angeles</td>\n",
       "      <td>34.04834</td>\n",
       "      <td>-118.25564</td>\n",
       "      <td>The NoMad Hotel Los Angeles</td>\n",
       "      <td>34.047021</td>\n",
       "      <td>-118.255441</td>\n",
       "      <td>Hotel</td>\n",
       "      <td>584c5cdfd772f952a50c6aef</td>\n",
       "    </tr>\n",
       "    <tr>\n",
       "      <th>3</th>\n",
       "      <td>Buildings in Downtown Los Angeles</td>\n",
       "      <td>34.04834</td>\n",
       "      <td>-118.25564</td>\n",
       "      <td>SUGARFISH</td>\n",
       "      <td>34.047460</td>\n",
       "      <td>-118.256747</td>\n",
       "      <td>Sushi Restaurant</td>\n",
       "      <td>4c85b026d4e23704454e8588</td>\n",
       "    </tr>\n",
       "    <tr>\n",
       "      <th>4</th>\n",
       "      <td>Buildings in Downtown Los Angeles</td>\n",
       "      <td>34.04834</td>\n",
       "      <td>-118.25564</td>\n",
       "      <td>Bottega Louie</td>\n",
       "      <td>34.047197</td>\n",
       "      <td>-118.256603</td>\n",
       "      <td>Italian Restaurant</td>\n",
       "      <td>49e25d07f964a5200f621fe3</td>\n",
       "    </tr>\n",
       "  </tbody>\n",
       "</table>\n",
       "</div>"
      ],
      "text/plain": [
       "                            Locality  Latitude  Longitude  \\\n",
       "0  Buildings in Downtown Los Angeles  34.04834 -118.25564   \n",
       "1  Buildings in Downtown Los Angeles  34.04834 -118.25564   \n",
       "2  Buildings in Downtown Los Angeles  34.04834 -118.25564   \n",
       "3  Buildings in Downtown Los Angeles  34.04834 -118.25564   \n",
       "4  Buildings in Downtown Los Angeles  34.04834 -118.25564   \n",
       "\n",
       "                    Venue name  Venue Lat   Venue Lng      Venue Category  \\\n",
       "0    Los Angeles Athletic Club  34.046508 -118.255316                 Gym   \n",
       "1              The Water Grill  34.049137 -118.255049  Seafood Restaurant   \n",
       "2  The NoMad Hotel Los Angeles  34.047021 -118.255441               Hotel   \n",
       "3                    SUGARFISH  34.047460 -118.256747    Sushi Restaurant   \n",
       "4                Bottega Louie  34.047197 -118.256603  Italian Restaurant   \n",
       "\n",
       "                   Venue ID  \n",
       "0  4a0f961df964a52077761fe3  \n",
       "1  4a5bfb78f964a52018bc1fe3  \n",
       "2  584c5cdfd772f952a50c6aef  \n",
       "3  4c85b026d4e23704454e8588  \n",
       "4  49e25d07f964a5200f621fe3  "
      ]
     },
     "execution_count": 39,
     "metadata": {},
     "output_type": "execute_result"
    }
   ],
   "source": [
    "#Convert the venue list into dataframe\n",
    "venues_df = pd.DataFrame(venues)\n",
    "venues_df.columns = ['Locality', 'Latitude', 'Longitude', 'Venue name', 'Venue Lat', 'Venue Lng', 'Venue Category', 'Venue ID']\n",
    "venues_df.head()"
   ]
  },
  {
   "cell_type": "code",
   "execution_count": 40,
   "metadata": {},
   "outputs": [
    {
     "data": {
      "text/plain": [
       "(3600, 8)"
      ]
     },
     "execution_count": 40,
     "metadata": {},
     "output_type": "execute_result"
    }
   ],
   "source": [
    "venues_df.shape"
   ]
  },
  {
   "cell_type": "code",
   "execution_count": 42,
   "metadata": {},
   "outputs": [
    {
     "name": "stdout",
     "output_type": "stream",
     "text": [
      "                  Strength\n",
      "Venue Category            \n",
      "Coffee Shop            312\n",
      "Bar                    126\n",
      "Sushi Restaurant       116\n",
      "Hotel                  105\n",
      "Theater                100\n",
      "We can see that most restaurants belongs to Coffe Shop category i.e. 312\n"
     ]
    }
   ],
   "source": [
    "#Getting the list of all the categories of all the restaurant present in venues_df dataframe\n",
    "res_df = pd.DataFrame({'Venue Category': venues_df['Venue Category'], 'Strength': venues_df['Venue Category']})\n",
    "res_df = res_df.groupby(['Venue Category']).count()\n",
    "res_df = res_df.sort_values(['Strength'], ascending=False)\n",
    "print(res_df.head())\n",
    "print(\"We can see that most restaurants belongs to Coffe Shop category i.e. {}\".format(res_df['Strength'][0]))"
   ]
  },
  {
   "cell_type": "code",
   "execution_count": 43,
   "metadata": {},
   "outputs": [
    {
     "data": {
      "text/plain": [
       "(160, 1)"
      ]
     },
     "execution_count": 43,
     "metadata": {},
     "output_type": "execute_result"
    }
   ],
   "source": [
    "res_df.shape"
   ]
  },
  {
   "cell_type": "code",
   "execution_count": 44,
   "metadata": {},
   "outputs": [
    {
     "data": {
      "text/html": [
       "<div>\n",
       "<style scoped>\n",
       "    .dataframe tbody tr th:only-of-type {\n",
       "        vertical-align: middle;\n",
       "    }\n",
       "\n",
       "    .dataframe tbody tr th {\n",
       "        vertical-align: top;\n",
       "    }\n",
       "\n",
       "    .dataframe thead th {\n",
       "        text-align: right;\n",
       "    }\n",
       "</style>\n",
       "<table border=\"1\" class=\"dataframe\">\n",
       "  <thead>\n",
       "    <tr style=\"text-align: right;\">\n",
       "      <th></th>\n",
       "      <th>Venue Category</th>\n",
       "      <th>Strength</th>\n",
       "    </tr>\n",
       "  </thead>\n",
       "  <tbody>\n",
       "    <tr>\n",
       "      <th>0</th>\n",
       "      <td>Coffee Shop</td>\n",
       "      <td>312</td>\n",
       "    </tr>\n",
       "    <tr>\n",
       "      <th>1</th>\n",
       "      <td>Bar</td>\n",
       "      <td>126</td>\n",
       "    </tr>\n",
       "    <tr>\n",
       "      <th>2</th>\n",
       "      <td>Sushi Restaurant</td>\n",
       "      <td>116</td>\n",
       "    </tr>\n",
       "    <tr>\n",
       "      <th>3</th>\n",
       "      <td>Hotel</td>\n",
       "      <td>105</td>\n",
       "    </tr>\n",
       "    <tr>\n",
       "      <th>4</th>\n",
       "      <td>Theater</td>\n",
       "      <td>100</td>\n",
       "    </tr>\n",
       "  </tbody>\n",
       "</table>\n",
       "</div>"
      ],
      "text/plain": [
       "     Venue Category  Strength\n",
       "0       Coffee Shop       312\n",
       "1               Bar       126\n",
       "2  Sushi Restaurant       116\n",
       "3             Hotel       105\n",
       "4           Theater       100"
      ]
     },
     "execution_count": 44,
     "metadata": {},
     "output_type": "execute_result"
    }
   ],
   "source": [
    "demo1_df = pd.DataFrame({'Venue Category':res_df.index[:50]})\n",
    "category_strength=[]\n",
    "for i in range(50):\n",
    "    category_strength.append(res_df['Strength'][i])\n",
    "demo2_df = pd.DataFrame(category_strength, columns=['Strength'])\n",
    "demo_df = pd.DataFrame({'Venue Category': demo1_df['Venue Category'], 'Strength': demo2_df['Strength']})\n",
    "demo_df.head()"
   ]
  },
  {
   "cell_type": "code",
   "execution_count": 45,
   "metadata": {},
   "outputs": [],
   "source": [
    "word_string = ''\n",
    "for i in range(50):\n",
    "    tmp = demo_df['Venue Category'][i]\n",
    "    if len(tmp.split(' ')) == 1:\n",
    "        word_string = word_string + (tmp + ' ')*demo_df['Strength'][i]\n",
    "    else:\n",
    "        part = tmp.split(' ')\n",
    "        tmp = part[0]+'_'+part[1]\n",
    "        word_string = word_string + (tmp + ' ')*demo_df['Strength'][i]"
   ]
  },
  {
   "cell_type": "code",
   "execution_count": 46,
   "metadata": {},
   "outputs": [
    {
     "name": "stdout",
     "output_type": "stream",
     "text": [
      "Word cloud created!\n"
     ]
    },
    {
     "data": {
      "image/png": "[encoded data removed]",
      "text/plain": [
       "<Figure size 720x648 with 1 Axes>"
      ]
     },
     "metadata": {},
     "output_type": "display_data"
    }
   ],
   "source": [
    "wordcloud = WordCloud(width=800, height=400, collocations=False).generate(word_string)\n",
    "print('Word cloud created!')\n",
    "# Open a plot of the generated image.\n",
    "\n",
    "plt.figure( figsize=(10,9), facecolor='k')\n",
    "plt.imshow(wordcloud)\n",
    "plt.axis(\"off\")\n",
    "plt.tight_layout(pad=0)\n",
    "plt.show()"
   ]
  },
  {
   "cell_type": "code",
   "execution_count": 47,
   "metadata": {},
   "outputs": [
    {
     "data": {
      "text/plain": [
       "Index(['Coffee Shop', 'Bar', 'Sushi Restaurant', 'Hotel', 'Theater',\n",
       "       'Mexican Restaurant', 'Ice Cream Shop', 'Italian Restaurant',\n",
       "       'Bookstore', 'French Restaurant', 'Taco Place', 'Sandwich Place',\n",
       "       'Music Venue', 'Restaurant', 'Seafood Restaurant', 'Brewery',\n",
       "       'New American Restaurant', 'Japanese Restaurant', 'Hotel Bar',\n",
       "       'Burger Joint', 'American Restaurant', 'Food Court', 'Grocery Store',\n",
       "       'Café', 'Speakeasy', 'Bakery', 'Park', 'Gastropub', 'Pizza Place',\n",
       "       'Art Gallery', 'Gym', 'Breakfast Spot', 'Asian Restaurant',\n",
       "       'Clothing Store', 'Salad Place', 'Fried Chicken Joint', 'Donut Shop',\n",
       "       'Juice Bar', 'Ramen Restaurant', 'Shopping Mall', 'Cheese Shop',\n",
       "       'Salon / Barbershop', 'Miscellaneous Shop', 'Filipino Restaurant',\n",
       "       'Library', 'Market', 'Vegetarian / Vegan Restaurant', 'Train Station',\n",
       "       'Deli / Bodega', 'Gym / Fitness Center'],\n",
       "      dtype='object', name='Venue Category')"
      ]
     },
     "execution_count": 47,
     "metadata": {},
     "output_type": "execute_result"
    }
   ],
   "source": [
    "#List of 50 most common categories of restuarants in Downtown City\n",
    "cat_res_list = res_df.index[0:50]\n",
    "cat_res_list"
   ]
  },
  {
   "cell_type": "code",
   "execution_count": 49,
   "metadata": {},
   "outputs": [],
   "source": [
    "#creating a dataframe from the list of common categories created above\n",
    "venue_etables = venues_df[venues_df['Venue Category'].isin(['Coffee Shop', 'Bar', 'Sushi Restaurant', 'Hotel', 'Theater',\n",
    "       'Mexican Restaurant', 'Ice Cream Shop', 'Italian Restaurant',\n",
    "       'Bookstore', 'French Restaurant', 'Taco Place', 'Sandwich Place',\n",
    "       'Music Venue', 'Restaurant', 'Seafood Restaurant', 'Brewery',\n",
    "       'New American Restaurant', 'Japanese Restaurant', 'Hotel Bar',\n",
    "       'Burger Joint', 'American Restaurant', 'Food Court', 'Grocery Store',\n",
    "       'Café', 'Speakeasy', 'Bakery', 'Park', 'Gastropub', 'Pizza Place',\n",
    "       'Art Gallery', 'Gym', 'Breakfast Spot', 'Asian Restaurant',\n",
    "       'Clothing Store', 'Salad Place', 'Fried Chicken Joint', 'Donut Shop',\n",
    "       'Juice Bar', 'Ramen Restaurant', 'Shopping Mall', 'Cheese Shop',\n",
    "       'Salon / Barbershop', 'Miscellaneous Shop', 'Filipino Restaurant',\n",
    "       'Library', 'Market', 'Vegetarian / Vegan Restaurant', 'Train Station',\n",
    "       'Deli / Bodega', 'Gym / Fitness Center'])]"
   ]
  },
  {
   "cell_type": "markdown",
   "metadata": {},
   "source": [
    "## Analyzing the Localities according to the venues"
   ]
  },
  {
   "cell_type": "code",
   "execution_count": 68,
   "metadata": {},
   "outputs": [
    {
     "data": {
      "text/html": [
       "<div>\n",
       "<style scoped>\n",
       "    .dataframe tbody tr th:only-of-type {\n",
       "        vertical-align: middle;\n",
       "    }\n",
       "\n",
       "    .dataframe tbody tr th {\n",
       "        vertical-align: top;\n",
       "    }\n",
       "\n",
       "    .dataframe thead th {\n",
       "        text-align: right;\n",
       "    }\n",
       "</style>\n",
       "<table border=\"1\" class=\"dataframe\">\n",
       "  <thead>\n",
       "    <tr style=\"text-align: right;\">\n",
       "      <th></th>\n",
       "      <th>Locality</th>\n",
       "      <th>American Restaurant</th>\n",
       "      <th>Antique Shop</th>\n",
       "      <th>Arcade</th>\n",
       "      <th>Art Gallery</th>\n",
       "      <th>Art Museum</th>\n",
       "      <th>Arts &amp; Crafts Store</th>\n",
       "      <th>Asian Restaurant</th>\n",
       "      <th>BBQ Joint</th>\n",
       "      <th>Bagel Shop</th>\n",
       "      <th>...</th>\n",
       "      <th>Trail</th>\n",
       "      <th>Train Station</th>\n",
       "      <th>Udon Restaurant</th>\n",
       "      <th>Vegetarian / Vegan Restaurant</th>\n",
       "      <th>Video Game Store</th>\n",
       "      <th>Vietnamese Restaurant</th>\n",
       "      <th>Warehouse Store</th>\n",
       "      <th>Wine Bar</th>\n",
       "      <th>Wine Shop</th>\n",
       "      <th>Yoga Studio</th>\n",
       "    </tr>\n",
       "  </thead>\n",
       "  <tbody>\n",
       "    <tr>\n",
       "      <th>0</th>\n",
       "      <td>Buildings in Downtown Los Angeles</td>\n",
       "      <td>0</td>\n",
       "      <td>0</td>\n",
       "      <td>0</td>\n",
       "      <td>0</td>\n",
       "      <td>0</td>\n",
       "      <td>0</td>\n",
       "      <td>0</td>\n",
       "      <td>0</td>\n",
       "      <td>0</td>\n",
       "      <td>...</td>\n",
       "      <td>0</td>\n",
       "      <td>0</td>\n",
       "      <td>0</td>\n",
       "      <td>0</td>\n",
       "      <td>0</td>\n",
       "      <td>0</td>\n",
       "      <td>0</td>\n",
       "      <td>0</td>\n",
       "      <td>0</td>\n",
       "      <td>0</td>\n",
       "    </tr>\n",
       "    <tr>\n",
       "      <th>1</th>\n",
       "      <td>Buildings in Downtown Los Angeles</td>\n",
       "      <td>0</td>\n",
       "      <td>0</td>\n",
       "      <td>0</td>\n",
       "      <td>0</td>\n",
       "      <td>0</td>\n",
       "      <td>0</td>\n",
       "      <td>0</td>\n",
       "      <td>0</td>\n",
       "      <td>0</td>\n",
       "      <td>...</td>\n",
       "      <td>0</td>\n",
       "      <td>0</td>\n",
       "      <td>0</td>\n",
       "      <td>0</td>\n",
       "      <td>0</td>\n",
       "      <td>0</td>\n",
       "      <td>0</td>\n",
       "      <td>0</td>\n",
       "      <td>0</td>\n",
       "      <td>0</td>\n",
       "    </tr>\n",
       "    <tr>\n",
       "      <th>2</th>\n",
       "      <td>Buildings in Downtown Los Angeles</td>\n",
       "      <td>0</td>\n",
       "      <td>0</td>\n",
       "      <td>0</td>\n",
       "      <td>0</td>\n",
       "      <td>0</td>\n",
       "      <td>0</td>\n",
       "      <td>0</td>\n",
       "      <td>0</td>\n",
       "      <td>0</td>\n",
       "      <td>...</td>\n",
       "      <td>0</td>\n",
       "      <td>0</td>\n",
       "      <td>0</td>\n",
       "      <td>0</td>\n",
       "      <td>0</td>\n",
       "      <td>0</td>\n",
       "      <td>0</td>\n",
       "      <td>0</td>\n",
       "      <td>0</td>\n",
       "      <td>0</td>\n",
       "    </tr>\n",
       "    <tr>\n",
       "      <th>3</th>\n",
       "      <td>Buildings in Downtown Los Angeles</td>\n",
       "      <td>0</td>\n",
       "      <td>0</td>\n",
       "      <td>0</td>\n",
       "      <td>0</td>\n",
       "      <td>0</td>\n",
       "      <td>0</td>\n",
       "      <td>0</td>\n",
       "      <td>0</td>\n",
       "      <td>0</td>\n",
       "      <td>...</td>\n",
       "      <td>0</td>\n",
       "      <td>0</td>\n",
       "      <td>0</td>\n",
       "      <td>0</td>\n",
       "      <td>0</td>\n",
       "      <td>0</td>\n",
       "      <td>0</td>\n",
       "      <td>0</td>\n",
       "      <td>0</td>\n",
       "      <td>0</td>\n",
       "    </tr>\n",
       "    <tr>\n",
       "      <th>4</th>\n",
       "      <td>Buildings in Downtown Los Angeles</td>\n",
       "      <td>0</td>\n",
       "      <td>0</td>\n",
       "      <td>0</td>\n",
       "      <td>0</td>\n",
       "      <td>0</td>\n",
       "      <td>0</td>\n",
       "      <td>0</td>\n",
       "      <td>0</td>\n",
       "      <td>0</td>\n",
       "      <td>...</td>\n",
       "      <td>0</td>\n",
       "      <td>0</td>\n",
       "      <td>0</td>\n",
       "      <td>0</td>\n",
       "      <td>0</td>\n",
       "      <td>0</td>\n",
       "      <td>0</td>\n",
       "      <td>0</td>\n",
       "      <td>0</td>\n",
       "      <td>0</td>\n",
       "    </tr>\n",
       "  </tbody>\n",
       "</table>\n",
       "<p>5 rows × 161 columns</p>\n",
       "</div>"
      ],
      "text/plain": [
       "                            Locality  American Restaurant  Antique Shop  \\\n",
       "0  Buildings in Downtown Los Angeles                    0             0   \n",
       "1  Buildings in Downtown Los Angeles                    0             0   \n",
       "2  Buildings in Downtown Los Angeles                    0             0   \n",
       "3  Buildings in Downtown Los Angeles                    0             0   \n",
       "4  Buildings in Downtown Los Angeles                    0             0   \n",
       "\n",
       "   Arcade  Art Gallery  Art Museum  Arts & Crafts Store  Asian Restaurant  \\\n",
       "0       0            0           0                    0                 0   \n",
       "1       0            0           0                    0                 0   \n",
       "2       0            0           0                    0                 0   \n",
       "3       0            0           0                    0                 0   \n",
       "4       0            0           0                    0                 0   \n",
       "\n",
       "   BBQ Joint  Bagel Shop  ...  Trail  Train Station  Udon Restaurant  \\\n",
       "0          0           0  ...      0              0                0   \n",
       "1          0           0  ...      0              0                0   \n",
       "2          0           0  ...      0              0                0   \n",
       "3          0           0  ...      0              0                0   \n",
       "4          0           0  ...      0              0                0   \n",
       "\n",
       "   Vegetarian / Vegan Restaurant  Video Game Store  Vietnamese Restaurant  \\\n",
       "0                              0                 0                      0   \n",
       "1                              0                 0                      0   \n",
       "2                              0                 0                      0   \n",
       "3                              0                 0                      0   \n",
       "4                              0                 0                      0   \n",
       "\n",
       "   Warehouse Store  Wine Bar  Wine Shop  Yoga Studio  \n",
       "0                0         0          0            0  \n",
       "1                0         0          0            0  \n",
       "2                0         0          0            0  \n",
       "3                0         0          0            0  \n",
       "4                0         0          0            0  \n",
       "\n",
       "[5 rows x 161 columns]"
      ]
     },
     "execution_count": 68,
     "metadata": {},
     "output_type": "execute_result"
    }
   ],
   "source": [
    "#creating one hot encoding\n",
    "blr_onehot = pd.get_dummies(venues_df[['Venue Category']], prefix=\"\", prefix_sep=\"\")\n",
    "\n",
    "blr_onehot['Locality'] = venues_df['Locality']\n",
    "\n",
    "#moving the locality column to the front\n",
    "blr_onehot = blr_onehot[ [ 'Locality' ] + [ col for col in blr_onehot.columns if col!='Locality' ] ]\n",
    "blr_onehot.head()\n"
   ]
  },
  {
   "cell_type": "markdown",
   "metadata": {},
   "source": [
    "#### Grouping the categories"
   ]
  },
  {
   "cell_type": "code",
   "execution_count": 69,
   "metadata": {},
   "outputs": [
    {
     "name": "stdout",
     "output_type": "stream",
     "text": [
      "(36, 161)\n"
     ]
    },
    {
     "data": {
      "text/html": [
       "<div>\n",
       "<style scoped>\n",
       "    .dataframe tbody tr th:only-of-type {\n",
       "        vertical-align: middle;\n",
       "    }\n",
       "\n",
       "    .dataframe tbody tr th {\n",
       "        vertical-align: top;\n",
       "    }\n",
       "\n",
       "    .dataframe thead th {\n",
       "        text-align: right;\n",
       "    }\n",
       "</style>\n",
       "<table border=\"1\" class=\"dataframe\">\n",
       "  <thead>\n",
       "    <tr style=\"text-align: right;\">\n",
       "      <th></th>\n",
       "      <th>Locality</th>\n",
       "      <th>American Restaurant</th>\n",
       "      <th>Antique Shop</th>\n",
       "      <th>Arcade</th>\n",
       "      <th>Art Gallery</th>\n",
       "      <th>Art Museum</th>\n",
       "      <th>Arts &amp; Crafts Store</th>\n",
       "      <th>Asian Restaurant</th>\n",
       "      <th>BBQ Joint</th>\n",
       "      <th>Bagel Shop</th>\n",
       "      <th>...</th>\n",
       "      <th>Trail</th>\n",
       "      <th>Train Station</th>\n",
       "      <th>Udon Restaurant</th>\n",
       "      <th>Vegetarian / Vegan Restaurant</th>\n",
       "      <th>Video Game Store</th>\n",
       "      <th>Vietnamese Restaurant</th>\n",
       "      <th>Warehouse Store</th>\n",
       "      <th>Wine Bar</th>\n",
       "      <th>Wine Shop</th>\n",
       "      <th>Yoga Studio</th>\n",
       "    </tr>\n",
       "  </thead>\n",
       "  <tbody>\n",
       "    <tr>\n",
       "      <th>0</th>\n",
       "      <td>2012 Los Angeles Kings Stanley Cup parade</td>\n",
       "      <td>0.01</td>\n",
       "      <td>0.0</td>\n",
       "      <td>0.0</td>\n",
       "      <td>0.01</td>\n",
       "      <td>0.01</td>\n",
       "      <td>0.00</td>\n",
       "      <td>0.00</td>\n",
       "      <td>0.01</td>\n",
       "      <td>0.0</td>\n",
       "      <td>...</td>\n",
       "      <td>0.0</td>\n",
       "      <td>0.01</td>\n",
       "      <td>0.01</td>\n",
       "      <td>0.00</td>\n",
       "      <td>0.0</td>\n",
       "      <td>0.0</td>\n",
       "      <td>0.0</td>\n",
       "      <td>0.00</td>\n",
       "      <td>0.00</td>\n",
       "      <td>0.0</td>\n",
       "    </tr>\n",
       "    <tr>\n",
       "      <th>1</th>\n",
       "      <td>2014 Los Angeles Kings Stanley Cup parade</td>\n",
       "      <td>0.01</td>\n",
       "      <td>0.0</td>\n",
       "      <td>0.0</td>\n",
       "      <td>0.01</td>\n",
       "      <td>0.01</td>\n",
       "      <td>0.00</td>\n",
       "      <td>0.00</td>\n",
       "      <td>0.01</td>\n",
       "      <td>0.0</td>\n",
       "      <td>...</td>\n",
       "      <td>0.0</td>\n",
       "      <td>0.01</td>\n",
       "      <td>0.01</td>\n",
       "      <td>0.00</td>\n",
       "      <td>0.0</td>\n",
       "      <td>0.0</td>\n",
       "      <td>0.0</td>\n",
       "      <td>0.00</td>\n",
       "      <td>0.00</td>\n",
       "      <td>0.0</td>\n",
       "    </tr>\n",
       "    <tr>\n",
       "      <th>2</th>\n",
       "      <td>2nd Street (Los Angeles)</td>\n",
       "      <td>0.02</td>\n",
       "      <td>0.0</td>\n",
       "      <td>0.0</td>\n",
       "      <td>0.04</td>\n",
       "      <td>0.01</td>\n",
       "      <td>0.00</td>\n",
       "      <td>0.00</td>\n",
       "      <td>0.01</td>\n",
       "      <td>0.0</td>\n",
       "      <td>...</td>\n",
       "      <td>0.0</td>\n",
       "      <td>0.01</td>\n",
       "      <td>0.01</td>\n",
       "      <td>0.01</td>\n",
       "      <td>0.0</td>\n",
       "      <td>0.0</td>\n",
       "      <td>0.0</td>\n",
       "      <td>0.00</td>\n",
       "      <td>0.00</td>\n",
       "      <td>0.0</td>\n",
       "    </tr>\n",
       "    <tr>\n",
       "      <th>3</th>\n",
       "      <td>7th Street (Los Angeles)</td>\n",
       "      <td>0.01</td>\n",
       "      <td>0.0</td>\n",
       "      <td>0.0</td>\n",
       "      <td>0.05</td>\n",
       "      <td>0.00</td>\n",
       "      <td>0.01</td>\n",
       "      <td>0.01</td>\n",
       "      <td>0.00</td>\n",
       "      <td>0.0</td>\n",
       "      <td>...</td>\n",
       "      <td>0.0</td>\n",
       "      <td>0.00</td>\n",
       "      <td>0.01</td>\n",
       "      <td>0.01</td>\n",
       "      <td>0.0</td>\n",
       "      <td>0.0</td>\n",
       "      <td>0.0</td>\n",
       "      <td>0.01</td>\n",
       "      <td>0.02</td>\n",
       "      <td>0.0</td>\n",
       "    </tr>\n",
       "    <tr>\n",
       "      <th>4</th>\n",
       "      <td>7th Street Station-Metro Silver Line</td>\n",
       "      <td>0.01</td>\n",
       "      <td>0.0</td>\n",
       "      <td>0.0</td>\n",
       "      <td>0.01</td>\n",
       "      <td>0.01</td>\n",
       "      <td>0.00</td>\n",
       "      <td>0.00</td>\n",
       "      <td>0.01</td>\n",
       "      <td>0.0</td>\n",
       "      <td>...</td>\n",
       "      <td>0.0</td>\n",
       "      <td>0.01</td>\n",
       "      <td>0.01</td>\n",
       "      <td>0.00</td>\n",
       "      <td>0.0</td>\n",
       "      <td>0.0</td>\n",
       "      <td>0.0</td>\n",
       "      <td>0.00</td>\n",
       "      <td>0.00</td>\n",
       "      <td>0.0</td>\n",
       "    </tr>\n",
       "  </tbody>\n",
       "</table>\n",
       "<p>5 rows × 161 columns</p>\n",
       "</div>"
      ],
      "text/plain": [
       "                                    Locality  American Restaurant  \\\n",
       "0  2012 Los Angeles Kings Stanley Cup parade                 0.01   \n",
       "1  2014 Los Angeles Kings Stanley Cup parade                 0.01   \n",
       "2                   2nd Street (Los Angeles)                 0.02   \n",
       "3                   7th Street (Los Angeles)                 0.01   \n",
       "4       7th Street Station-Metro Silver Line                 0.01   \n",
       "\n",
       "   Antique Shop  Arcade  Art Gallery  Art Museum  Arts & Crafts Store  \\\n",
       "0           0.0     0.0         0.01        0.01                 0.00   \n",
       "1           0.0     0.0         0.01        0.01                 0.00   \n",
       "2           0.0     0.0         0.04        0.01                 0.00   \n",
       "3           0.0     0.0         0.05        0.00                 0.01   \n",
       "4           0.0     0.0         0.01        0.01                 0.00   \n",
       "\n",
       "   Asian Restaurant  BBQ Joint  Bagel Shop  ...  Trail  Train Station  \\\n",
       "0              0.00       0.01         0.0  ...    0.0           0.01   \n",
       "1              0.00       0.01         0.0  ...    0.0           0.01   \n",
       "2              0.00       0.01         0.0  ...    0.0           0.01   \n",
       "3              0.01       0.00         0.0  ...    0.0           0.00   \n",
       "4              0.00       0.01         0.0  ...    0.0           0.01   \n",
       "\n",
       "   Udon Restaurant  Vegetarian / Vegan Restaurant  Video Game Store  \\\n",
       "0             0.01                           0.00               0.0   \n",
       "1             0.01                           0.00               0.0   \n",
       "2             0.01                           0.01               0.0   \n",
       "3             0.01                           0.01               0.0   \n",
       "4             0.01                           0.00               0.0   \n",
       "\n",
       "   Vietnamese Restaurant  Warehouse Store  Wine Bar  Wine Shop  Yoga Studio  \n",
       "0                    0.0              0.0      0.00       0.00          0.0  \n",
       "1                    0.0              0.0      0.00       0.00          0.0  \n",
       "2                    0.0              0.0      0.00       0.00          0.0  \n",
       "3                    0.0              0.0      0.01       0.02          0.0  \n",
       "4                    0.0              0.0      0.00       0.00          0.0  \n",
       "\n",
       "[5 rows x 161 columns]"
      ]
     },
     "execution_count": 69,
     "metadata": {},
     "output_type": "execute_result"
    }
   ],
   "source": [
    "blr_grouped = blr_onehot.groupby(['Locality']).mean().reset_index()\n",
    "print(blr_grouped.shape)\n",
    "blr_grouped.head()"
   ]
  },
  {
   "cell_type": "markdown",
   "metadata": {},
   "source": [
    "#### Supposing we want to open an italian restaurants"
   ]
  },
  {
   "cell_type": "code",
   "execution_count": 70,
   "metadata": {},
   "outputs": [
    {
     "data": {
      "text/plain": [
       "36"
      ]
     },
     "execution_count": 70,
     "metadata": {},
     "output_type": "execute_result"
    }
   ],
   "source": [
    "#numbers of localities having Italian Restaurants\n",
    "len(blr_grouped[blr_grouped['Italian Restaurant'] > 0])"
   ]
  },
  {
   "cell_type": "code",
   "execution_count": 71,
   "metadata": {},
   "outputs": [
    {
     "data": {
      "text/html": [
       "<div>\n",
       "<style scoped>\n",
       "    .dataframe tbody tr th:only-of-type {\n",
       "        vertical-align: middle;\n",
       "    }\n",
       "\n",
       "    .dataframe tbody tr th {\n",
       "        vertical-align: top;\n",
       "    }\n",
       "\n",
       "    .dataframe thead th {\n",
       "        text-align: right;\n",
       "    }\n",
       "</style>\n",
       "<table border=\"1\" class=\"dataframe\">\n",
       "  <thead>\n",
       "    <tr style=\"text-align: right;\">\n",
       "      <th></th>\n",
       "      <th>Locality</th>\n",
       "      <th>Italian Restaurant</th>\n",
       "    </tr>\n",
       "  </thead>\n",
       "  <tbody>\n",
       "    <tr>\n",
       "      <th>0</th>\n",
       "      <td>2012 Los Angeles Kings Stanley Cup parade</td>\n",
       "      <td>0.02</td>\n",
       "    </tr>\n",
       "    <tr>\n",
       "      <th>1</th>\n",
       "      <td>2014 Los Angeles Kings Stanley Cup parade</td>\n",
       "      <td>0.02</td>\n",
       "    </tr>\n",
       "    <tr>\n",
       "      <th>2</th>\n",
       "      <td>2nd Street (Los Angeles)</td>\n",
       "      <td>0.04</td>\n",
       "    </tr>\n",
       "    <tr>\n",
       "      <th>3</th>\n",
       "      <td>7th Street (Los Angeles)</td>\n",
       "      <td>0.05</td>\n",
       "    </tr>\n",
       "    <tr>\n",
       "      <th>4</th>\n",
       "      <td>7th Street Station-Metro Silver Line</td>\n",
       "      <td>0.02</td>\n",
       "    </tr>\n",
       "  </tbody>\n",
       "</table>\n",
       "</div>"
      ],
      "text/plain": [
       "                                    Locality  Italian Restaurant\n",
       "0  2012 Los Angeles Kings Stanley Cup parade                0.02\n",
       "1  2014 Los Angeles Kings Stanley Cup parade                0.02\n",
       "2                   2nd Street (Los Angeles)                0.04\n",
       "3                   7th Street (Los Angeles)                0.05\n",
       "4       7th Street Station-Metro Silver Line                0.02"
      ]
     },
     "execution_count": 71,
     "metadata": {},
     "output_type": "execute_result"
    }
   ],
   "source": [
    "blr_italian = blr_grouped[['Locality', 'Italian Restaurant']]\n",
    "blr_italian.head()"
   ]
  },
  {
   "cell_type": "code",
   "execution_count": 72,
   "metadata": {},
   "outputs": [
    {
     "data": {
      "text/html": [
       "<div style=\"width:100%;\"><div style=\"position:relative;width:100%;height:0;padding-bottom:60%;\"><span style=\"color:#565656\">Make this Notebook Trusted to load map: File -> Trust Notebook</span><iframe src=\"about:blank\" style=\"position:absolute;width:100%;height:100%;left:0;top:0;border:none !important;\" data-html=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 onload=\"this.contentDocument.open();this.contentDocument.write(atob(this.getAttribute('data-html')));this.contentDocument.close();\" allowfullscreen webkitallowfullscreen mozallowfullscreen></iframe></div></div>"
      ],
      "text/plain": [
       "<folium.folium.Map at 0x1ad2513b408>"
      ]
     },
     "execution_count": 72,
     "metadata": {},
     "output_type": "execute_result"
    }
   ],
   "source": [
    "#Creating a map\n",
    "blr_map = folium.Map(location=[blr_lat, blr_lng],zoom_start=11)\n",
    "\n",
    "#adding markers to the map for localities\n",
    "#marker for Bangalore\n",
    "folium.Marker([blr_lat, blr_lng], popup='<i>Downtown</i>', color='red', tooltip=\"Click to see\").add_to(blr_map)\n",
    "\n",
    "#markers for localities\n",
    "for latitude,longitude,name,strength in zip(neig_df[\"Latitudes\"], neig_df[\"Longitudes\"], neig_df[\"Locality\"], blr_italian[\"Italian Restaurant\"]):\n",
    "    folium.CircleMarker(\n",
    "        [latitude, longitude],\n",
    "        radius=strength*300,\n",
    "        color='green',\n",
    "        popup=name,\n",
    "        fill=True,\n",
    "        fill_color='#3186ff'\n",
    "    ).add_to(blr_map)\n",
    "\n",
    "blr_map"
   ]
  },
  {
   "cell_type": "markdown",
   "metadata": {},
   "source": [
    "## Clustering The Localities"
   ]
  },
  {
   "cell_type": "markdown",
   "metadata": {},
   "source": [
    "Using K-means clustering for clustering the locality in Downtown base on the density of Italian restaurants present in each locality by using the above dataframe created."
   ]
  },
  {
   "cell_type": "code",
   "execution_count": 73,
   "metadata": {},
   "outputs": [
    {
     "name": "stdout",
     "output_type": "stream",
     "text": [
      "[1 1 0 2 1 1 0 0 2 0]\n"
     ]
    }
   ],
   "source": [
    "#K-means clustering\n",
    "cluster = 3 \n",
    "\n",
    "#Dataframe for clustering\n",
    "blr_clustering = blr_italian.drop(['Locality'], 1)\n",
    "\n",
    "#run K-means clustering\n",
    "k_means = KMeans(init=\"k-means++\", n_clusters=cluster, n_init=12).fit(blr_clustering)\n",
    "\n",
    "#getting the labels for first 10 locality \n",
    "print(k_means.labels_[0:10])\n"
   ]
  },
  {
   "cell_type": "code",
   "execution_count": 74,
   "metadata": {},
   "outputs": [
    {
     "data": {
      "text/html": [
       "<div>\n",
       "<style scoped>\n",
       "    .dataframe tbody tr th:only-of-type {\n",
       "        vertical-align: middle;\n",
       "    }\n",
       "\n",
       "    .dataframe tbody tr th {\n",
       "        vertical-align: top;\n",
       "    }\n",
       "\n",
       "    .dataframe thead th {\n",
       "        text-align: right;\n",
       "    }\n",
       "</style>\n",
       "<table border=\"1\" class=\"dataframe\">\n",
       "  <thead>\n",
       "    <tr style=\"text-align: right;\">\n",
       "      <th></th>\n",
       "      <th>Locality</th>\n",
       "      <th>Italian Restaurant</th>\n",
       "      <th>Cluster Label</th>\n",
       "    </tr>\n",
       "  </thead>\n",
       "  <tbody>\n",
       "    <tr>\n",
       "      <th>0</th>\n",
       "      <td>2012 Los Angeles Kings Stanley Cup parade</td>\n",
       "      <td>0.02</td>\n",
       "      <td>1</td>\n",
       "    </tr>\n",
       "    <tr>\n",
       "      <th>1</th>\n",
       "      <td>2014 Los Angeles Kings Stanley Cup parade</td>\n",
       "      <td>0.02</td>\n",
       "      <td>1</td>\n",
       "    </tr>\n",
       "    <tr>\n",
       "      <th>2</th>\n",
       "      <td>2nd Street (Los Angeles)</td>\n",
       "      <td>0.04</td>\n",
       "      <td>0</td>\n",
       "    </tr>\n",
       "    <tr>\n",
       "      <th>3</th>\n",
       "      <td>7th Street (Los Angeles)</td>\n",
       "      <td>0.05</td>\n",
       "      <td>2</td>\n",
       "    </tr>\n",
       "    <tr>\n",
       "      <th>4</th>\n",
       "      <td>7th Street Station-Metro Silver Line</td>\n",
       "      <td>0.02</td>\n",
       "      <td>1</td>\n",
       "    </tr>\n",
       "  </tbody>\n",
       "</table>\n",
       "</div>"
      ],
      "text/plain": [
       "                                    Locality  Italian Restaurant  \\\n",
       "0  2012 Los Angeles Kings Stanley Cup parade                0.02   \n",
       "1  2014 Los Angeles Kings Stanley Cup parade                0.02   \n",
       "2                   2nd Street (Los Angeles)                0.04   \n",
       "3                   7th Street (Los Angeles)                0.05   \n",
       "4       7th Street Station-Metro Silver Line                0.02   \n",
       "\n",
       "   Cluster Label  \n",
       "0              1  \n",
       "1              1  \n",
       "2              0  \n",
       "3              2  \n",
       "4              1  "
      ]
     },
     "execution_count": 74,
     "metadata": {},
     "output_type": "execute_result"
    }
   ],
   "source": [
    "#Creating a copy of blr_italian dataframe\n",
    "blr_labels = blr_italian.copy()\n",
    "\n",
    "#adding label to blr_labels\n",
    "blr_labels[\"Cluster Label\"] = k_means.labels_\n",
    "\n",
    "blr_labels.head()"
   ]
  },
  {
   "cell_type": "code",
   "execution_count": 75,
   "metadata": {},
   "outputs": [
    {
     "data": {
      "text/html": [
       "<div>\n",
       "<style scoped>\n",
       "    .dataframe tbody tr th:only-of-type {\n",
       "        vertical-align: middle;\n",
       "    }\n",
       "\n",
       "    .dataframe tbody tr th {\n",
       "        vertical-align: top;\n",
       "    }\n",
       "\n",
       "    .dataframe thead th {\n",
       "        text-align: right;\n",
       "    }\n",
       "</style>\n",
       "<table border=\"1\" class=\"dataframe\">\n",
       "  <thead>\n",
       "    <tr style=\"text-align: right;\">\n",
       "      <th></th>\n",
       "      <th>Locality</th>\n",
       "      <th>Italian Restaurant</th>\n",
       "      <th>Cluster Label</th>\n",
       "      <th>Latitudes</th>\n",
       "      <th>Longitudes</th>\n",
       "    </tr>\n",
       "  </thead>\n",
       "  <tbody>\n",
       "    <tr>\n",
       "      <th>0</th>\n",
       "      <td>2012 Los Angeles Kings Stanley Cup parade</td>\n",
       "      <td>0.02</td>\n",
       "      <td>1</td>\n",
       "      <td>34.053610</td>\n",
       "      <td>-118.245500</td>\n",
       "    </tr>\n",
       "    <tr>\n",
       "      <th>1</th>\n",
       "      <td>2014 Los Angeles Kings Stanley Cup parade</td>\n",
       "      <td>0.02</td>\n",
       "      <td>1</td>\n",
       "      <td>34.053610</td>\n",
       "      <td>-118.245500</td>\n",
       "    </tr>\n",
       "    <tr>\n",
       "      <th>2</th>\n",
       "      <td>2nd Street (Los Angeles)</td>\n",
       "      <td>0.04</td>\n",
       "      <td>0</td>\n",
       "      <td>34.047611</td>\n",
       "      <td>-118.239197</td>\n",
       "    </tr>\n",
       "    <tr>\n",
       "      <th>3</th>\n",
       "      <td>7th Street (Los Angeles)</td>\n",
       "      <td>0.05</td>\n",
       "      <td>2</td>\n",
       "      <td>34.035055</td>\n",
       "      <td>-118.238651</td>\n",
       "    </tr>\n",
       "    <tr>\n",
       "      <th>4</th>\n",
       "      <td>7th Street Station-Metro Silver Line</td>\n",
       "      <td>0.02</td>\n",
       "      <td>1</td>\n",
       "      <td>34.053610</td>\n",
       "      <td>-118.245500</td>\n",
       "    </tr>\n",
       "  </tbody>\n",
       "</table>\n",
       "</div>"
      ],
      "text/plain": [
       "                                    Locality  Italian Restaurant  \\\n",
       "0  2012 Los Angeles Kings Stanley Cup parade                0.02   \n",
       "1  2014 Los Angeles Kings Stanley Cup parade                0.02   \n",
       "2                   2nd Street (Los Angeles)                0.04   \n",
       "3                   7th Street (Los Angeles)                0.05   \n",
       "4       7th Street Station-Metro Silver Line                0.02   \n",
       "\n",
       "   Cluster Label  Latitudes  Longitudes  \n",
       "0              1  34.053610 -118.245500  \n",
       "1              1  34.053610 -118.245500  \n",
       "2              0  34.047611 -118.239197  \n",
       "3              2  34.035055 -118.238651  \n",
       "4              1  34.053610 -118.245500  "
      ]
     },
     "execution_count": 75,
     "metadata": {},
     "output_type": "execute_result"
    }
   ],
   "source": [
    "#Merging the blr_labels and neig_df dataframes to get the latitude and longitudes for each locality\n",
    "blr_labels = blr_labels.join(neig_df.set_index('Locality'), on='Locality')\n",
    "blr_labels.head()"
   ]
  },
  {
   "cell_type": "code",
   "execution_count": 76,
   "metadata": {},
   "outputs": [
    {
     "data": {
      "text/html": [
       "<div>\n",
       "<style scoped>\n",
       "    .dataframe tbody tr th:only-of-type {\n",
       "        vertical-align: middle;\n",
       "    }\n",
       "\n",
       "    .dataframe tbody tr th {\n",
       "        vertical-align: top;\n",
       "    }\n",
       "\n",
       "    .dataframe thead th {\n",
       "        text-align: right;\n",
       "    }\n",
       "</style>\n",
       "<table border=\"1\" class=\"dataframe\">\n",
       "  <thead>\n",
       "    <tr style=\"text-align: right;\">\n",
       "      <th></th>\n",
       "      <th>Locality</th>\n",
       "      <th>Italian Restaurant</th>\n",
       "      <th>Cluster Label</th>\n",
       "      <th>Latitudes</th>\n",
       "      <th>Longitudes</th>\n",
       "    </tr>\n",
       "  </thead>\n",
       "  <tbody>\n",
       "    <tr>\n",
       "      <th>9</th>\n",
       "      <td>Broadway (Los Angeles)</td>\n",
       "      <td>0.03</td>\n",
       "      <td>0</td>\n",
       "      <td>34.037049</td>\n",
       "      <td>-118.261201</td>\n",
       "    </tr>\n",
       "    <tr>\n",
       "      <th>34</th>\n",
       "      <td>Spring Street (Los Angeles)</td>\n",
       "      <td>0.04</td>\n",
       "      <td>0</td>\n",
       "      <td>34.043782</td>\n",
       "      <td>-118.253023</td>\n",
       "    </tr>\n",
       "    <tr>\n",
       "      <th>15</th>\n",
       "      <td>Civic Center, Los Angeles</td>\n",
       "      <td>0.03</td>\n",
       "      <td>0</td>\n",
       "      <td>34.049810</td>\n",
       "      <td>-118.254240</td>\n",
       "    </tr>\n",
       "    <tr>\n",
       "      <th>26</th>\n",
       "      <td>Los Angeles Music Center</td>\n",
       "      <td>0.03</td>\n",
       "      <td>0</td>\n",
       "      <td>34.057350</td>\n",
       "      <td>-118.248160</td>\n",
       "    </tr>\n",
       "    <tr>\n",
       "      <th>7</th>\n",
       "      <td>Angels Flight</td>\n",
       "      <td>0.03</td>\n",
       "      <td>0</td>\n",
       "      <td>34.050950</td>\n",
       "      <td>-118.249790</td>\n",
       "    </tr>\n",
       "  </tbody>\n",
       "</table>\n",
       "</div>"
      ],
      "text/plain": [
       "                       Locality  Italian Restaurant  Cluster Label  Latitudes  \\\n",
       "9        Broadway (Los Angeles)                0.03              0  34.037049   \n",
       "34  Spring Street (Los Angeles)                0.04              0  34.043782   \n",
       "15    Civic Center, Los Angeles                0.03              0  34.049810   \n",
       "26     Los Angeles Music Center                0.03              0  34.057350   \n",
       "7                 Angels Flight                0.03              0  34.050950   \n",
       "\n",
       "    Longitudes  \n",
       "9  -118.261201  \n",
       "34 -118.253023  \n",
       "15 -118.254240  \n",
       "26 -118.248160  \n",
       "7  -118.249790  "
      ]
     },
     "execution_count": 76,
     "metadata": {},
     "output_type": "execute_result"
    }
   ],
   "source": [
    "#Grouping the localities according to their Cluster Labels\n",
    "blr_labels.sort_values([\"Cluster Label\"], inplace=True)\n",
    "blr_labels.head()"
   ]
  },
  {
   "cell_type": "code",
   "execution_count": 77,
   "metadata": {},
   "outputs": [
    {
     "data": {
      "text/html": [
       "<div>\n",
       "<style scoped>\n",
       "    .dataframe tbody tr th:only-of-type {\n",
       "        vertical-align: middle;\n",
       "    }\n",
       "\n",
       "    .dataframe tbody tr th {\n",
       "        vertical-align: top;\n",
       "    }\n",
       "\n",
       "    .dataframe thead th {\n",
       "        text-align: right;\n",
       "    }\n",
       "</style>\n",
       "<table border=\"1\" class=\"dataframe\">\n",
       "  <thead>\n",
       "    <tr style=\"text-align: right;\">\n",
       "      <th></th>\n",
       "      <th>Locality</th>\n",
       "      <th>Cluster Label</th>\n",
       "    </tr>\n",
       "  </thead>\n",
       "  <tbody>\n",
       "    <tr>\n",
       "      <th>9</th>\n",
       "      <td>Broadway (Los Angeles)</td>\n",
       "      <td>0</td>\n",
       "    </tr>\n",
       "    <tr>\n",
       "      <th>34</th>\n",
       "      <td>Spring Street (Los Angeles)</td>\n",
       "      <td>0</td>\n",
       "    </tr>\n",
       "    <tr>\n",
       "      <th>15</th>\n",
       "      <td>Civic Center, Los Angeles</td>\n",
       "      <td>0</td>\n",
       "    </tr>\n",
       "    <tr>\n",
       "      <th>26</th>\n",
       "      <td>Los Angeles Music Center</td>\n",
       "      <td>0</td>\n",
       "    </tr>\n",
       "    <tr>\n",
       "      <th>7</th>\n",
       "      <td>Angels Flight</td>\n",
       "      <td>0</td>\n",
       "    </tr>\n",
       "  </tbody>\n",
       "</table>\n",
       "</div>"
      ],
      "text/plain": [
       "                       Locality  Cluster Label\n",
       "9        Broadway (Los Angeles)              0\n",
       "34  Spring Street (Los Angeles)              0\n",
       "15    Civic Center, Los Angeles              0\n",
       "26     Los Angeles Music Center              0\n",
       "7                 Angels Flight              0"
      ]
     },
     "execution_count": 77,
     "metadata": {},
     "output_type": "execute_result"
    }
   ],
   "source": [
    "#Cleaning the dataframe for mapping the localities according to their cluster labels\n",
    "blr_only_labels = blr_labels.drop(columns=['Italian Restaurant','Latitudes','Longitudes'])\n",
    "blr_only_labels.head()"
   ]
  },
  {
   "cell_type": "code",
   "execution_count": 78,
   "metadata": {},
   "outputs": [
    {
     "data": {
      "text/html": [
       "<div style=\"width:100%;\"><div style=\"position:relative;width:100%;height:0;padding-bottom:60%;\"><span style=\"color:#565656\">Make this Notebook Trusted to load map: File -> Trust Notebook</span><iframe src=\"about:blank\" style=\"position:absolute;width:100%;height:100%;left:0;top:0;border:none !important;\" data-html=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 onload=\"this.contentDocument.open();this.contentDocument.write(atob(this.getAttribute('data-html')));this.contentDocument.close();\" allowfullscreen webkitallowfullscreen mozallowfullscreen></iframe></div></div>"
      ],
      "text/plain": [
       "<folium.folium.Map at 0x1ad251bb448>"
      ]
     },
     "execution_count": 78,
     "metadata": {},
     "output_type": "execute_result"
    }
   ],
   "source": [
    "#Plot the cluster on map\n",
    "cluster_map = folium.Map(location=[blr_lat, blr_lng],zoom_start=11)\n",
    "\n",
    "#marker for Bangalore\n",
    "folium.Marker([blr_lat, blr_lng], popup='<i>Downtown</i>', color='red', tooltip=\"Click to see\").add_to(cluster_map)\n",
    "\n",
    "#Getting the colors for the clusters\n",
    "col = ['red', 'green', 'blue']\n",
    "\n",
    "#markers for localities\n",
    "for latitude,longitude,name,clus in zip(blr_labels[\"Latitudes\"], blr_labels[\"Longitudes\"], blr_labels[\"Locality\"], blr_labels[\"Cluster Label\"]):\n",
    "    label = folium.Popup(name + ' - Cluster ' + str(clus+1))\n",
    "    folium.CircleMarker(\n",
    "        [latitude, longitude],\n",
    "        radius=6,\n",
    "        color=col[clus],\n",
    "        popup=label,\n",
    "        fill=False,\n",
    "        fill_color=col[clus],\n",
    "        fill_opacity=0.3\n",
    "    ).add_to(cluster_map)\n",
    "       \n",
    "cluster_map"
   ]
  },
  {
   "cell_type": "markdown",
   "metadata": {},
   "source": [
    "## Analyzing The Cluster"
   ]
  },
  {
   "cell_type": "code",
   "execution_count": 79,
   "metadata": {},
   "outputs": [
    {
     "name": "stdout",
     "output_type": "stream",
     "text": [
      "There are 10 localities in cluster-1\n",
      "The mean occurence of Italian restaurant in cluster-1 is 0.03\n"
     ]
    },
    {
     "data": {
      "text/html": [
       "<div>\n",
       "<style scoped>\n",
       "    .dataframe tbody tr th:only-of-type {\n",
       "        vertical-align: middle;\n",
       "    }\n",
       "\n",
       "    .dataframe tbody tr th {\n",
       "        vertical-align: top;\n",
       "    }\n",
       "\n",
       "    .dataframe thead th {\n",
       "        text-align: right;\n",
       "    }\n",
       "</style>\n",
       "<table border=\"1\" class=\"dataframe\">\n",
       "  <thead>\n",
       "    <tr style=\"text-align: right;\">\n",
       "      <th></th>\n",
       "      <th>Locality</th>\n",
       "      <th>Italian Restaurant</th>\n",
       "      <th>Cluster Label</th>\n",
       "      <th>Latitudes</th>\n",
       "      <th>Longitudes</th>\n",
       "    </tr>\n",
       "  </thead>\n",
       "  <tbody>\n",
       "    <tr>\n",
       "      <th>9</th>\n",
       "      <td>Broadway (Los Angeles)</td>\n",
       "      <td>0.03</td>\n",
       "      <td>0</td>\n",
       "      <td>34.037049</td>\n",
       "      <td>-118.261201</td>\n",
       "    </tr>\n",
       "    <tr>\n",
       "      <th>34</th>\n",
       "      <td>Spring Street (Los Angeles)</td>\n",
       "      <td>0.04</td>\n",
       "      <td>0</td>\n",
       "      <td>34.043782</td>\n",
       "      <td>-118.253023</td>\n",
       "    </tr>\n",
       "    <tr>\n",
       "      <th>15</th>\n",
       "      <td>Civic Center, Los Angeles</td>\n",
       "      <td>0.03</td>\n",
       "      <td>0</td>\n",
       "      <td>34.049810</td>\n",
       "      <td>-118.254240</td>\n",
       "    </tr>\n",
       "    <tr>\n",
       "      <th>26</th>\n",
       "      <td>Los Angeles Music Center</td>\n",
       "      <td>0.03</td>\n",
       "      <td>0</td>\n",
       "      <td>34.057350</td>\n",
       "      <td>-118.248160</td>\n",
       "    </tr>\n",
       "    <tr>\n",
       "      <th>7</th>\n",
       "      <td>Angels Flight</td>\n",
       "      <td>0.03</td>\n",
       "      <td>0</td>\n",
       "      <td>34.050950</td>\n",
       "      <td>-118.249790</td>\n",
       "    </tr>\n",
       "  </tbody>\n",
       "</table>\n",
       "</div>"
      ],
      "text/plain": [
       "                       Locality  Italian Restaurant  Cluster Label  Latitudes  \\\n",
       "9        Broadway (Los Angeles)                0.03              0  34.037049   \n",
       "34  Spring Street (Los Angeles)                0.04              0  34.043782   \n",
       "15    Civic Center, Los Angeles                0.03              0  34.049810   \n",
       "26     Los Angeles Music Center                0.03              0  34.057350   \n",
       "7                 Angels Flight                0.03              0  34.050950   \n",
       "\n",
       "    Longitudes  \n",
       "9  -118.261201  \n",
       "34 -118.253023  \n",
       "15 -118.254240  \n",
       "26 -118.248160  \n",
       "7  -118.249790  "
      ]
     },
     "execution_count": 79,
     "metadata": {},
     "output_type": "execute_result"
    }
   ],
   "source": [
    "#Cluster 1\n",
    "#Dataframe containing localities with cluster label 0, which corresponds to localities with no Italian Restaurant\n",
    "cluster_1 = blr_labels[blr_labels['Cluster Label'] == 0]\n",
    "print(\"There are {} localities in cluster-1\".format(cluster_1.shape[0]))\n",
    "mean_presence_1 = cluster_1['Italian Restaurant'].mean()\n",
    "print(\"The mean occurence of Italian restaurant in cluster-1 is {0:.2f}\".format(mean_presence_1))\n",
    "cluster_1.head()"
   ]
  },
  {
   "cell_type": "code",
   "execution_count": 80,
   "metadata": {},
   "outputs": [
    {
     "name": "stdout",
     "output_type": "stream",
     "text": [
      "There are 22 localities in cluster-2\n",
      "The mean occurence of Italian restaurant in cluster-2 is 0.02\n"
     ]
    },
    {
     "data": {
      "text/html": [
       "<div>\n",
       "<style scoped>\n",
       "    .dataframe tbody tr th:only-of-type {\n",
       "        vertical-align: middle;\n",
       "    }\n",
       "\n",
       "    .dataframe tbody tr th {\n",
       "        vertical-align: top;\n",
       "    }\n",
       "\n",
       "    .dataframe thead th {\n",
       "        text-align: right;\n",
       "    }\n",
       "</style>\n",
       "<table border=\"1\" class=\"dataframe\">\n",
       "  <thead>\n",
       "    <tr style=\"text-align: right;\">\n",
       "      <th></th>\n",
       "      <th>Locality</th>\n",
       "      <th>Italian Restaurant</th>\n",
       "      <th>Cluster Label</th>\n",
       "      <th>Latitudes</th>\n",
       "      <th>Longitudes</th>\n",
       "    </tr>\n",
       "  </thead>\n",
       "  <tbody>\n",
       "    <tr>\n",
       "      <th>28</th>\n",
       "      <td>One Wilshire</td>\n",
       "      <td>0.02</td>\n",
       "      <td>1</td>\n",
       "      <td>34.04791</td>\n",
       "      <td>-118.25554</td>\n",
       "    </tr>\n",
       "    <tr>\n",
       "      <th>21</th>\n",
       "      <td>Grand Park</td>\n",
       "      <td>0.02</td>\n",
       "      <td>1</td>\n",
       "      <td>34.05551</td>\n",
       "      <td>-118.24551</td>\n",
       "    </tr>\n",
       "    <tr>\n",
       "      <th>27</th>\n",
       "      <td>Metro 417</td>\n",
       "      <td>0.02</td>\n",
       "      <td>1</td>\n",
       "      <td>34.04834</td>\n",
       "      <td>-118.25564</td>\n",
       "    </tr>\n",
       "    <tr>\n",
       "      <th>32</th>\n",
       "      <td>Selig Zoo</td>\n",
       "      <td>0.02</td>\n",
       "      <td>1</td>\n",
       "      <td>34.04834</td>\n",
       "      <td>-118.25564</td>\n",
       "    </tr>\n",
       "    <tr>\n",
       "      <th>25</th>\n",
       "      <td>Los Angeles Center Studios</td>\n",
       "      <td>0.01</td>\n",
       "      <td>1</td>\n",
       "      <td>34.04481</td>\n",
       "      <td>-118.37139</td>\n",
       "    </tr>\n",
       "  </tbody>\n",
       "</table>\n",
       "</div>"
      ],
      "text/plain": [
       "                      Locality  Italian Restaurant  Cluster Label  Latitudes  \\\n",
       "28                One Wilshire                0.02              1   34.04791   \n",
       "21                  Grand Park                0.02              1   34.05551   \n",
       "27                   Metro 417                0.02              1   34.04834   \n",
       "32                   Selig Zoo                0.02              1   34.04834   \n",
       "25  Los Angeles Center Studios                0.01              1   34.04481   \n",
       "\n",
       "    Longitudes  \n",
       "28  -118.25554  \n",
       "21  -118.24551  \n",
       "27  -118.25564  \n",
       "32  -118.25564  \n",
       "25  -118.37139  "
      ]
     },
     "execution_count": 80,
     "metadata": {},
     "output_type": "execute_result"
    }
   ],
   "source": [
    "#Cluster 2\n",
    "#Dataframe containing localities with cluster label 1, which corresponds to localities with high density of Italian Restaurant\n",
    "cluster_2 = blr_labels[blr_labels['Cluster Label'] == 1]\n",
    "print(\"There are {} localities in cluster-2\".format(cluster_2.shape[0]))\n",
    "mean_presence_2 = cluster_2['Italian Restaurant'].mean()\n",
    "print(\"The mean occurence of Italian restaurant in cluster-2 is {0:.2f}\".format(mean_presence_2))\n",
    "cluster_2.head()"
   ]
  },
  {
   "cell_type": "code",
   "execution_count": 81,
   "metadata": {},
   "outputs": [
    {
     "name": "stdout",
     "output_type": "stream",
     "text": [
      "There are 4 localities in cluster-3\n",
      "The mean occurence of Italian restaurant in cluster-3 is 0.05\n"
     ]
    },
    {
     "data": {
      "text/html": [
       "<div>\n",
       "<style scoped>\n",
       "    .dataframe tbody tr th:only-of-type {\n",
       "        vertical-align: middle;\n",
       "    }\n",
       "\n",
       "    .dataframe tbody tr th {\n",
       "        vertical-align: top;\n",
       "    }\n",
       "\n",
       "    .dataframe thead th {\n",
       "        text-align: right;\n",
       "    }\n",
       "</style>\n",
       "<table border=\"1\" class=\"dataframe\">\n",
       "  <thead>\n",
       "    <tr style=\"text-align: right;\">\n",
       "      <th></th>\n",
       "      <th>Locality</th>\n",
       "      <th>Italian Restaurant</th>\n",
       "      <th>Cluster Label</th>\n",
       "      <th>Latitudes</th>\n",
       "      <th>Longitudes</th>\n",
       "    </tr>\n",
       "  </thead>\n",
       "  <tbody>\n",
       "    <tr>\n",
       "      <th>13</th>\n",
       "      <td>Central Avenue (Los Angeles)</td>\n",
       "      <td>0.05</td>\n",
       "      <td>2</td>\n",
       "      <td>34.031410</td>\n",
       "      <td>-118.244537</td>\n",
       "    </tr>\n",
       "    <tr>\n",
       "      <th>8</th>\n",
       "      <td>Bill Keene Memorial Interchange</td>\n",
       "      <td>0.06</td>\n",
       "      <td>2</td>\n",
       "      <td>32.770137</td>\n",
       "      <td>-117.015861</td>\n",
       "    </tr>\n",
       "    <tr>\n",
       "      <th>31</th>\n",
       "      <td>Pico (Los Angeles Metro station)</td>\n",
       "      <td>0.05</td>\n",
       "      <td>2</td>\n",
       "      <td>34.031055</td>\n",
       "      <td>-118.250008</td>\n",
       "    </tr>\n",
       "    <tr>\n",
       "      <th>3</th>\n",
       "      <td>7th Street (Los Angeles)</td>\n",
       "      <td>0.05</td>\n",
       "      <td>2</td>\n",
       "      <td>34.035055</td>\n",
       "      <td>-118.238651</td>\n",
       "    </tr>\n",
       "  </tbody>\n",
       "</table>\n",
       "</div>"
      ],
      "text/plain": [
       "                            Locality  Italian Restaurant  Cluster Label  \\\n",
       "13      Central Avenue (Los Angeles)                0.05              2   \n",
       "8    Bill Keene Memorial Interchange                0.06              2   \n",
       "31  Pico (Los Angeles Metro station)                0.05              2   \n",
       "3           7th Street (Los Angeles)                0.05              2   \n",
       "\n",
       "    Latitudes  Longitudes  \n",
       "13  34.031410 -118.244537  \n",
       "8   32.770137 -117.015861  \n",
       "31  34.031055 -118.250008  \n",
       "3   34.035055 -118.238651  "
      ]
     },
     "execution_count": 81,
     "metadata": {},
     "output_type": "execute_result"
    }
   ],
   "source": [
    "#Cluster 3\n",
    "#Dataframe containing localities with cluster label 2, which corresponds to localities with low density of Italian Restaurant\n",
    "cluster_3 = blr_labels[blr_labels['Cluster Label'] == 2]\n",
    "print(\"There are {} localities in cluster-3\".format(cluster_3.shape[0]))\n",
    "mean_presence_3 = cluster_3['Italian Restaurant'].mean()\n",
    "print(\"The mean occurence of Italian restaurant in cluster-3 is {0:.2f}\".format(mean_presence_3))\n",
    "cluster_3.head()"
   ]
  },
  {
   "cell_type": "markdown",
   "metadata": {},
   "source": [
    "## Conclusion"
   ]
  },
  {
   "cell_type": "markdown",
   "metadata": {},
   "source": [
    "As can be seen from the map , opening an italian restaurant in cluster 2 with mean italian restaurant being the lowest \n",
    "and the prominent localities being the highest , would be a good area to open an italian restaurant in downtown , los angeles"
   ]
  },
  {
   "cell_type": "code",
   "execution_count": null,
   "metadata": {},
   "outputs": [],
   "source": []
  },
  {
   "cell_type": "code",
   "execution_count": null,
   "metadata": {},
   "outputs": [],
   "source": []
  }
 ],
 "metadata": {
  "kernelspec": {
   "display_name": "Python 3",
   "language": "python",
   "name": "python3"
  },
  "language_info": {
   "codemirror_mode": {
    "name": "ipython",
    "version": 3
   },
   "file_extension": ".py",
   "mimetype": "text/x-python",
   "name": "python",
   "nbconvert_exporter": "python",
   "pygments_lexer": "ipython3",
   "version": "3.7.7"
  }
 },
 "nbformat": 4,
 "nbformat_minor": 1
}
